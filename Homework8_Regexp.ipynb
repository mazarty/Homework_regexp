{
 "cells": [
  {
   "cell_type": "code",
   "execution_count": 88,
   "metadata": {},
   "outputs": [],
   "source": [
    "#Задание 1\n",
    "#Напишите функцию, которая принимает на вход строку и проверяет является ли она валидным транспортным номером \n",
    "#(1 буква, 3 цифры, 2 буквы, 2-3 цифры). Обратите внимание, что не все буквы кириллического алфавита \n",
    "#используются в транспортных номерах. Если номер валиден, то функция должна возвращать отдельно номер и регион.\n",
    "import re\n",
    "\n",
    "def car_num (car_id):\n",
    "    pattern_carid = re.findall(r'[А, В, Е, К, М, Н, О, Р, С, Т, У, Х]{2}\\d{3}[А, В, Е, К, М, Н, О, Р, С, Т, У, Х]{1}\\d{2,3}', car_id)\n",
    "    pattern_num = re.findall(r'[А, В, Е, К, М, Н, О, Р, С, Т, У, Х]{2}\\d{3}[А, В, Е, К, М, Н, О, Р, С, Т, У, Х]{1}', car_id)\n",
    "\n",
    "    if len(pattern_carid ) > 0:\n",
    "        region = re.sub(rf'{pattern_num[0]}','', car_id) #оставляем в строке только регион\n",
    "        print(f'Номер {pattern_carid[0]} валиден. Регион: {region}')\n",
    "    else:\n",
    "        print('Номер не валиден')"
   ]
  },
  {
   "cell_type": "code",
   "execution_count": 89,
   "metadata": {},
   "outputs": [
    {
     "name": "stdout",
     "output_type": "stream",
     "text": [
      "Номер АВ222С96 валиден. Регион: 96\n"
     ]
    }
   ],
   "source": [
    "car_num('АВ222С96')"
   ]
  },
  {
   "cell_type": "code",
   "execution_count": 90,
   "metadata": {
    "scrolled": true
   },
   "outputs": [
    {
     "name": "stdout",
     "output_type": "stream",
     "text": [
      "Номер не валиден\n"
     ]
    }
   ],
   "source": [
    "car_num('АБ22ВВ193')"
   ]
  },
  {
   "cell_type": "code",
   "execution_count": 176,
   "metadata": {},
   "outputs": [],
   "source": [
    "#Задание 2\n",
    "#Напишите функцию, которая будет удалять все последовательные повторы слов из заданной строки при помощи регулярных выражений.\n",
    "\n",
    "import re\n",
    "\n",
    "def distinct_ (some_string):\n",
    "    list_ = re.split(r'\\s', some_string)\n",
    "    new_str =''\n",
    "\n",
    "    for i, word in enumerate(list_):\n",
    "        if i == 0:\n",
    "            new_str = word\n",
    "\n",
    "        if i>0:\n",
    "            word_prev = re.sub('[^а-яА-Я0-9]', '', list_[i-1]) #убираем спец символы из предыдушего слова\n",
    "            word_cur =  re.sub('[^а-яА-Я0-9]', '', list_[i]) #убираем спец символы из текущего слова\n",
    "            #print(f'Step{i} word_prev= {word_prev} word_cur = {word_cur} list_[i]= \\'{list_[i]}\\' ' )\n",
    "            if word_cur == word_prev:\n",
    "                new_str += re.sub(word_cur, '', list_[i]) #если слова совпадают, оставляем только спец символы\n",
    "\n",
    "            if word_cur != word_prev:\n",
    "                new_str += ' ' + list_[i] #если слова не совпадают, добавляем слово вместе со всеми спец символами\n",
    "    return new_str"
   ]
  },
  {
   "cell_type": "code",
   "execution_count": 177,
   "metadata": {},
   "outputs": [],
   "source": [
    "some_string = 'Напишите функцию функцию, которая будет. будет? будет будет удалять все все все все последовательные повторы слов из из из из заданной строки строки при помощи регулярных выражений'"
   ]
  },
  {
   "cell_type": "code",
   "execution_count": 178,
   "metadata": {
    "scrolled": true
   },
   "outputs": [
    {
     "data": {
      "text/plain": [
       "'Напишите функцию, которая будет.? удалять все последовательные повторы слов из заданной строки при помощи регулярных выражений'"
      ]
     },
     "execution_count": 178,
     "metadata": {},
     "output_type": "execute_result"
    }
   ],
   "source": [
    "distinct_(some_string)"
   ]
  },
  {
   "cell_type": "code",
   "execution_count": 187,
   "metadata": {},
   "outputs": [],
   "source": [
    "#Задание 3\n",
    "#Напишите функцию, которая будет возвращать акроним по переданной в нее строке со словами.\n",
    "import re\n",
    "\n",
    "def akro_make (some_words):\n",
    "    list_ = re.split(r'\\s', some_words)\n",
    "    akro=''\n",
    "\n",
    "    for i, word in enumerate(list_):\n",
    "        akro += word[0].upper()\n",
    "\n",
    "    return(akro)"
   ]
  },
  {
   "cell_type": "code",
   "execution_count": 191,
   "metadata": {},
   "outputs": [],
   "source": [
    "some_words = 'Информационные технологии'\n",
    "some1 = 'Near Field Communication'"
   ]
  },
  {
   "cell_type": "code",
   "execution_count": 193,
   "metadata": {},
   "outputs": [
    {
     "data": {
      "text/plain": [
       "'ИТ'"
      ]
     },
     "execution_count": 193,
     "metadata": {},
     "output_type": "execute_result"
    }
   ],
   "source": [
    "akro_make(some_words)"
   ]
  },
  {
   "cell_type": "code",
   "execution_count": 194,
   "metadata": {},
   "outputs": [
    {
     "data": {
      "text/plain": [
       "'NFC'"
      ]
     },
     "execution_count": 194,
     "metadata": {},
     "output_type": "execute_result"
    }
   ],
   "source": [
    "akro_make(some1)"
   ]
  },
  {
   "cell_type": "code",
   "execution_count": 16,
   "metadata": {},
   "outputs": [],
   "source": [
    "#Задание 4\n",
    "#Напишите функцию, которая будет принимать на вход список email-адресов и выводить их распределение по доменным зонам.\n",
    "\n",
    "import re\n",
    "\n",
    "def domains (email_list):\n",
    "    dom_cnt = {}\n",
    "    for e in email_list:\n",
    "        dom = re.findall(r'@\\w+.\\w+', e)[0]\n",
    "        if dom_cnt.get(dom, 'Non') == 'Non':\n",
    "            dom_cnt[dom] = 1\n",
    "        else:\n",
    "            dom_cnt[dom] += 1\n",
    "    return dom_cnt"
   ]
  },
  {
   "cell_type": "code",
   "execution_count": 17,
   "metadata": {},
   "outputs": [
    {
     "name": "stdout",
     "output_type": "stream",
     "text": [
      "@gmail.com : 2\n",
      "@test.in : 1\n",
      "@ya.ru : 2\n",
      "@mail.ru : 1\n"
     ]
    }
   ],
   "source": [
    "emails = ['test@gmail.com', 'xyz@test.in', 'test@ya.ru', 'xyz@mail.ru', 'xyz@ya.ru', 'xyz@gmail.com']\n",
    "\n",
    "res = domains(emails)\n",
    "\n",
    "for key, value in res.items():\n",
    "    print(key, ':', value )"
   ]
  }
 ],
 "metadata": {
  "kernelspec": {
   "display_name": "Python 3",
   "language": "python",
   "name": "python3"
  },
  "language_info": {
   "codemirror_mode": {
    "name": "ipython",
    "version": 3
   },
   "file_extension": ".py",
   "mimetype": "text/x-python",
   "name": "python",
   "nbconvert_exporter": "python",
   "pygments_lexer": "ipython3",
   "version": "3.8.3"
  }
 },
 "nbformat": 4,
 "nbformat_minor": 4
}
